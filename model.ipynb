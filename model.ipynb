{
  "nbformat": 4,
  "nbformat_minor": 0,
  "metadata": {
    "colab": {
      "name": "model.ipynb",
      "provenance": [],
      "collapsed_sections": []
    },
    "kernelspec": {
      "name": "python3",
      "display_name": "Python 3"
    }
  },
  "cells": [
    {
      "cell_type": "markdown",
      "metadata": {
        "id": "1ZSL2Sm3Sw52",
        "colab_type": "text"
      },
      "source": [
        "# Overall View\n",
        "\n",
        "in this notebook we want to predict air quality.\n",
        "\n",
        "**Dataset:**\n",
        "\n",
        "The data is about Pollutant Standards Index (PSI), specifically pm2.5. There are four bands on the PM2.5 concentration scale: 0 to 55 for normal, 56 to 150 for elevated, 151 to 250 for high, and very high for any higher readings.\n",
        "\n",
        "Beyond national air quality levels, the data is also split by regions: North, South, East, West and Central.\n",
        "\n",
        "**Solutions:**\n",
        "\n",
        "as you know, it,s a time series problem. \n",
        "\n",
        "1- The first part of notebook is time series classification. we divided data in 4 range of normal, elevated, high and very high. as the quality of air in this dataset is not worth than 150 then we have 2 class so doing this task is a bit pointless. \n",
        "\n",
        "2- The last part of notebook is time series regression.  "
      ]
    },
    {
      "cell_type": "code",
      "metadata": {
        "id": "TTKambinSX0P",
        "colab_type": "code",
        "colab": {
          "base_uri": "https://localhost:8080/",
          "height": 34
        },
        "outputId": "f4d87ff6-0eab-4246-d37e-4a7fcef70db5"
      },
      "source": [
        "from google.colab import drive\n",
        "drive.mount('/content/drive')"
      ],
      "execution_count": 15,
      "outputs": [
        {
          "output_type": "stream",
          "text": [
            "Drive already mounted at /content/drive; to attempt to forcibly remount, call drive.mount(\"/content/drive\", force_remount=True).\n"
          ],
          "name": "stdout"
        }
      ]
    },
    {
      "cell_type": "code",
      "metadata": {
        "id": "v-PjxH96VsR6",
        "colab_type": "code",
        "colab": {}
      },
      "source": [
        "import numpy, keras, IPython\n",
        "import matplotlib.pyplot as plt\n",
        "from pandas import read_csv\n",
        "import pandas as pd\n",
        "import math\n",
        "import numpy as np\n",
        "from numpy import array\n",
        "import tensorflow as tf\n",
        "import seaborn as sns\n",
        "from sklearn.model_selection import train_test_split\n",
        "from sklearn.utils import shuffle\n",
        "from sklearn.metrics import confusion_matrix\n",
        "from sklearn.metrics import precision_score\n",
        "from sklearn.metrics import accuracy_score\n",
        "from sklearn.preprocessing import MinMaxScaler\n",
        "from keras.layers import LSTM\n",
        "from keras.layers import Bidirectional\n",
        "from keras import optimizers\n",
        "from keras.layers import Dense, Flatten, Activation, Dropout\n",
        "from keras.layers import BatchNormalization\n",
        "from IPython.display import SVG\n",
        "from keras.utils.vis_utils import model_to_dot\n",
        "from keras.models import Model, Sequential, load_model\n",
        "from keras.optimizers import Adam,SGD,Adagrad,Adadelta,RMSprop\n",
        "from keras.callbacks import ReduceLROnPlateau, LearningRateScheduler, EarlyStopping, ModelCheckpoint\n",
        "from IPython.display import SVG\n",
        "from pathlib import Path\n",
        "import IPython\n",
        "from pylab import rcParams\n",
        "import matplotlib.pylab as pylab\n",
        "%matplotlib inline"
      ],
      "execution_count": 54,
      "outputs": []
    },
    {
      "cell_type": "code",
      "metadata": {
        "id": "VZHWFGSeSoQ3",
        "colab_type": "code",
        "colab": {
          "base_uri": "https://localhost:8080/",
          "height": 204
        },
        "outputId": "4307d529-237c-4520-c19a-07528ccbb326"
      },
      "source": [
        "psi_df = pd.read_csv(\"/content/drive/My Drive/YapAiTek/psi_df_2016_2019.csv\")\n",
        "psi_df.head()"
      ],
      "execution_count": 17,
      "outputs": [
        {
          "output_type": "execute_result",
          "data": {
            "text/html": [
              "<div>\n",
              "<style scoped>\n",
              "    .dataframe tbody tr th:only-of-type {\n",
              "        vertical-align: middle;\n",
              "    }\n",
              "\n",
              "    .dataframe tbody tr th {\n",
              "        vertical-align: top;\n",
              "    }\n",
              "\n",
              "    .dataframe thead th {\n",
              "        text-align: right;\n",
              "    }\n",
              "</style>\n",
              "<table border=\"1\" class=\"dataframe\">\n",
              "  <thead>\n",
              "    <tr style=\"text-align: right;\">\n",
              "      <th></th>\n",
              "      <th>national</th>\n",
              "      <th>south</th>\n",
              "      <th>north</th>\n",
              "      <th>east</th>\n",
              "      <th>central</th>\n",
              "      <th>west</th>\n",
              "      <th>timestamp</th>\n",
              "    </tr>\n",
              "  </thead>\n",
              "  <tbody>\n",
              "    <tr>\n",
              "      <th>0</th>\n",
              "      <td>47</td>\n",
              "      <td>44</td>\n",
              "      <td>37</td>\n",
              "      <td>47</td>\n",
              "      <td>47</td>\n",
              "      <td>34</td>\n",
              "      <td>2016-02-07T18:00:00+08:00</td>\n",
              "    </tr>\n",
              "    <tr>\n",
              "      <th>1</th>\n",
              "      <td>59</td>\n",
              "      <td>57</td>\n",
              "      <td>54</td>\n",
              "      <td>59</td>\n",
              "      <td>57</td>\n",
              "      <td>56</td>\n",
              "      <td>2016-02-08T23:00:00+08:00</td>\n",
              "    </tr>\n",
              "    <tr>\n",
              "      <th>2</th>\n",
              "      <td>59</td>\n",
              "      <td>57</td>\n",
              "      <td>55</td>\n",
              "      <td>59</td>\n",
              "      <td>57</td>\n",
              "      <td>56</td>\n",
              "      <td>2016-02-09T01:00:00+08:00</td>\n",
              "    </tr>\n",
              "    <tr>\n",
              "      <th>3</th>\n",
              "      <td>59</td>\n",
              "      <td>57</td>\n",
              "      <td>55</td>\n",
              "      <td>59</td>\n",
              "      <td>56</td>\n",
              "      <td>56</td>\n",
              "      <td>2016-02-09T02:00:00+08:00</td>\n",
              "    </tr>\n",
              "    <tr>\n",
              "      <th>4</th>\n",
              "      <td>59</td>\n",
              "      <td>58</td>\n",
              "      <td>55</td>\n",
              "      <td>59</td>\n",
              "      <td>56</td>\n",
              "      <td>56</td>\n",
              "      <td>2016-02-09T03:00:00+08:00</td>\n",
              "    </tr>\n",
              "  </tbody>\n",
              "</table>\n",
              "</div>"
            ],
            "text/plain": [
              "   national  south  north  east  central  west                  timestamp\n",
              "0        47     44     37    47       47    34  2016-02-07T18:00:00+08:00\n",
              "1        59     57     54    59       57    56  2016-02-08T23:00:00+08:00\n",
              "2        59     57     55    59       57    56  2016-02-09T01:00:00+08:00\n",
              "3        59     57     55    59       56    56  2016-02-09T02:00:00+08:00\n",
              "4        59     58     55    59       56    56  2016-02-09T03:00:00+08:00"
            ]
          },
          "metadata": {
            "tags": []
          },
          "execution_count": 17
        }
      ]
    },
    {
      "cell_type": "markdown",
      "metadata": {
        "id": "tsH_kdfaO_9l",
        "colab_type": "text"
      },
      "source": [
        "i drop timestamp feature but in future work we can keep it as we shuffle the data:"
      ]
    },
    {
      "cell_type": "code",
      "metadata": {
        "id": "DG0lbdNyTU4D",
        "colab_type": "code",
        "colab": {}
      },
      "source": [
        "psi_df = psi_df.drop(['timestamp'], axis=1)"
      ],
      "execution_count": 18,
      "outputs": []
    },
    {
      "cell_type": "code",
      "metadata": {
        "id": "69lqnfX3TYAP",
        "colab_type": "code",
        "colab": {
          "base_uri": "https://localhost:8080/",
          "height": 34
        },
        "outputId": "e745b22a-8444-4174-e4a4-c597f740b9c2"
      },
      "source": [
        "psi_df.shape"
      ],
      "execution_count": 19,
      "outputs": [
        {
          "output_type": "execute_result",
          "data": {
            "text/plain": [
              "(30022, 6)"
            ]
          },
          "metadata": {
            "tags": []
          },
          "execution_count": 19
        }
      ]
    },
    {
      "cell_type": "markdown",
      "metadata": {
        "id": "TxRnc6SjPizG",
        "colab_type": "text"
      },
      "source": [
        "data info(no NAN value):"
      ]
    },
    {
      "cell_type": "code",
      "metadata": {
        "id": "9p8ROUBHTaXu",
        "colab_type": "code",
        "colab": {
          "base_uri": "https://localhost:8080/",
          "height": 238
        },
        "outputId": "da7090f3-c151-45c2-abc9-35c25a2d89ca"
      },
      "source": [
        "psi_df.info()"
      ],
      "execution_count": 20,
      "outputs": [
        {
          "output_type": "stream",
          "text": [
            "<class 'pandas.core.frame.DataFrame'>\n",
            "RangeIndex: 30022 entries, 0 to 30021\n",
            "Data columns (total 6 columns):\n",
            " #   Column    Non-Null Count  Dtype\n",
            "---  ------    --------------  -----\n",
            " 0   national  30022 non-null  int64\n",
            " 1   south     30022 non-null  int64\n",
            " 2   north     30022 non-null  int64\n",
            " 3   east      30022 non-null  int64\n",
            " 4   central   30022 non-null  int64\n",
            " 5   west      30022 non-null  int64\n",
            "dtypes: int64(6)\n",
            "memory usage: 1.4 MB\n"
          ],
          "name": "stdout"
        }
      ]
    },
    {
      "cell_type": "code",
      "metadata": {
        "id": "B29nJ5f6TcXk",
        "colab_type": "code",
        "colab": {
          "base_uri": "https://localhost:8080/",
          "height": 297
        },
        "outputId": "54b2e7a0-103f-4910-b467-e19719733ef6"
      },
      "source": [
        "psi_df.describe()"
      ],
      "execution_count": 21,
      "outputs": [
        {
          "output_type": "execute_result",
          "data": {
            "text/html": [
              "<div>\n",
              "<style scoped>\n",
              "    .dataframe tbody tr th:only-of-type {\n",
              "        vertical-align: middle;\n",
              "    }\n",
              "\n",
              "    .dataframe tbody tr th {\n",
              "        vertical-align: top;\n",
              "    }\n",
              "\n",
              "    .dataframe thead th {\n",
              "        text-align: right;\n",
              "    }\n",
              "</style>\n",
              "<table border=\"1\" class=\"dataframe\">\n",
              "  <thead>\n",
              "    <tr style=\"text-align: right;\">\n",
              "      <th></th>\n",
              "      <th>national</th>\n",
              "      <th>south</th>\n",
              "      <th>north</th>\n",
              "      <th>east</th>\n",
              "      <th>central</th>\n",
              "      <th>west</th>\n",
              "    </tr>\n",
              "  </thead>\n",
              "  <tbody>\n",
              "    <tr>\n",
              "      <th>count</th>\n",
              "      <td>30022.000000</td>\n",
              "      <td>30022.000000</td>\n",
              "      <td>30022.000000</td>\n",
              "      <td>30022.000000</td>\n",
              "      <td>30022.000000</td>\n",
              "      <td>30022.000000</td>\n",
              "    </tr>\n",
              "    <tr>\n",
              "      <th>mean</th>\n",
              "      <td>50.502232</td>\n",
              "      <td>54.294351</td>\n",
              "      <td>54.003464</td>\n",
              "      <td>52.491007</td>\n",
              "      <td>52.885884</td>\n",
              "      <td>50.299014</td>\n",
              "    </tr>\n",
              "    <tr>\n",
              "      <th>std</th>\n",
              "      <td>13.107219</td>\n",
              "      <td>10.844489</td>\n",
              "      <td>10.991413</td>\n",
              "      <td>10.365553</td>\n",
              "      <td>11.832203</td>\n",
              "      <td>11.672157</td>\n",
              "    </tr>\n",
              "    <tr>\n",
              "      <th>min</th>\n",
              "      <td>13.000000</td>\n",
              "      <td>20.000000</td>\n",
              "      <td>19.000000</td>\n",
              "      <td>14.000000</td>\n",
              "      <td>13.000000</td>\n",
              "      <td>16.000000</td>\n",
              "    </tr>\n",
              "    <tr>\n",
              "      <th>25%</th>\n",
              "      <td>42.000000</td>\n",
              "      <td>50.000000</td>\n",
              "      <td>49.000000</td>\n",
              "      <td>47.000000</td>\n",
              "      <td>47.000000</td>\n",
              "      <td>43.000000</td>\n",
              "    </tr>\n",
              "    <tr>\n",
              "      <th>50%</th>\n",
              "      <td>53.000000</td>\n",
              "      <td>54.000000</td>\n",
              "      <td>55.000000</td>\n",
              "      <td>54.000000</td>\n",
              "      <td>54.000000</td>\n",
              "      <td>52.000000</td>\n",
              "    </tr>\n",
              "    <tr>\n",
              "      <th>75%</th>\n",
              "      <td>58.000000</td>\n",
              "      <td>59.000000</td>\n",
              "      <td>59.000000</td>\n",
              "      <td>58.000000</td>\n",
              "      <td>59.000000</td>\n",
              "      <td>57.000000</td>\n",
              "    </tr>\n",
              "    <tr>\n",
              "      <th>max</th>\n",
              "      <td>143.000000</td>\n",
              "      <td>154.000000</td>\n",
              "      <td>145.000000</td>\n",
              "      <td>131.000000</td>\n",
              "      <td>154.000000</td>\n",
              "      <td>143.000000</td>\n",
              "    </tr>\n",
              "  </tbody>\n",
              "</table>\n",
              "</div>"
            ],
            "text/plain": [
              "           national         south  ...       central          west\n",
              "count  30022.000000  30022.000000  ...  30022.000000  30022.000000\n",
              "mean      50.502232     54.294351  ...     52.885884     50.299014\n",
              "std       13.107219     10.844489  ...     11.832203     11.672157\n",
              "min       13.000000     20.000000  ...     13.000000     16.000000\n",
              "25%       42.000000     50.000000  ...     47.000000     43.000000\n",
              "50%       53.000000     54.000000  ...     54.000000     52.000000\n",
              "75%       58.000000     59.000000  ...     59.000000     57.000000\n",
              "max      143.000000    154.000000  ...    154.000000    143.000000\n",
              "\n",
              "[8 rows x 6 columns]"
            ]
          },
          "metadata": {
            "tags": []
          },
          "execution_count": 21
        }
      ]
    },
    {
      "cell_type": "markdown",
      "metadata": {
        "id": "uHzNi2JSPenk",
        "colab_type": "text"
      },
      "source": [
        "\n",
        "# time series classification"
      ]
    },
    {
      "cell_type": "code",
      "metadata": {
        "id": "FheD5vwLTjq2",
        "colab_type": "code",
        "colab": {}
      },
      "source": [
        "new_psi_df = pd.DataFrame()\n",
        "def transform_sentiment(x,column):\n",
        "  if x > 0 and x <= 55:\n",
        "      return 0\n",
        "  elif x > 55 and x <= 150:\n",
        "      return 1\n",
        "  elif x > 150 and x <= 250:\n",
        "      return 2\n",
        "  else:\n",
        "      return 3\n",
        "for column in psi_df:\n",
        "  new_psi_df[column] = psi_df[column].apply(lambda x: transform_sentiment(x,column))"
      ],
      "execution_count": 22,
      "outputs": []
    },
    {
      "cell_type": "code",
      "metadata": {
        "id": "AR6BMxzyTnP-",
        "colab_type": "code",
        "colab": {
          "base_uri": "https://localhost:8080/",
          "height": 204
        },
        "outputId": "78a6f949-25bb-4033-ad84-331a8e856f0a"
      },
      "source": [
        "new_psi_df.head()"
      ],
      "execution_count": 23,
      "outputs": [
        {
          "output_type": "execute_result",
          "data": {
            "text/html": [
              "<div>\n",
              "<style scoped>\n",
              "    .dataframe tbody tr th:only-of-type {\n",
              "        vertical-align: middle;\n",
              "    }\n",
              "\n",
              "    .dataframe tbody tr th {\n",
              "        vertical-align: top;\n",
              "    }\n",
              "\n",
              "    .dataframe thead th {\n",
              "        text-align: right;\n",
              "    }\n",
              "</style>\n",
              "<table border=\"1\" class=\"dataframe\">\n",
              "  <thead>\n",
              "    <tr style=\"text-align: right;\">\n",
              "      <th></th>\n",
              "      <th>national</th>\n",
              "      <th>south</th>\n",
              "      <th>north</th>\n",
              "      <th>east</th>\n",
              "      <th>central</th>\n",
              "      <th>west</th>\n",
              "    </tr>\n",
              "  </thead>\n",
              "  <tbody>\n",
              "    <tr>\n",
              "      <th>0</th>\n",
              "      <td>0</td>\n",
              "      <td>0</td>\n",
              "      <td>0</td>\n",
              "      <td>0</td>\n",
              "      <td>0</td>\n",
              "      <td>0</td>\n",
              "    </tr>\n",
              "    <tr>\n",
              "      <th>1</th>\n",
              "      <td>1</td>\n",
              "      <td>1</td>\n",
              "      <td>0</td>\n",
              "      <td>1</td>\n",
              "      <td>1</td>\n",
              "      <td>1</td>\n",
              "    </tr>\n",
              "    <tr>\n",
              "      <th>2</th>\n",
              "      <td>1</td>\n",
              "      <td>1</td>\n",
              "      <td>0</td>\n",
              "      <td>1</td>\n",
              "      <td>1</td>\n",
              "      <td>1</td>\n",
              "    </tr>\n",
              "    <tr>\n",
              "      <th>3</th>\n",
              "      <td>1</td>\n",
              "      <td>1</td>\n",
              "      <td>0</td>\n",
              "      <td>1</td>\n",
              "      <td>1</td>\n",
              "      <td>1</td>\n",
              "    </tr>\n",
              "    <tr>\n",
              "      <th>4</th>\n",
              "      <td>1</td>\n",
              "      <td>1</td>\n",
              "      <td>0</td>\n",
              "      <td>1</td>\n",
              "      <td>1</td>\n",
              "      <td>1</td>\n",
              "    </tr>\n",
              "  </tbody>\n",
              "</table>\n",
              "</div>"
            ],
            "text/plain": [
              "   national  south  north  east  central  west\n",
              "0         0      0      0     0        0     0\n",
              "1         1      1      0     1        1     1\n",
              "2         1      1      0     1        1     1\n",
              "3         1      1      0     1        1     1\n",
              "4         1      1      0     1        1     1"
            ]
          },
          "metadata": {
            "tags": []
          },
          "execution_count": 23
        }
      ]
    },
    {
      "cell_type": "code",
      "metadata": {
        "id": "Ypg46aazTp1j",
        "colab_type": "code",
        "colab": {
          "base_uri": "https://localhost:8080/",
          "height": 68
        },
        "outputId": "52ea87c9-971c-49b5-a3b2-53743e670e50"
      },
      "source": [
        "dataset = new_psi_df.values\n",
        "print('type of dataset: ', type(dataset))\n",
        "print('length of dataset: ', len(dataset), '\\nshape of dataset: ', dataset.shape)"
      ],
      "execution_count": 24,
      "outputs": [
        {
          "output_type": "stream",
          "text": [
            "type of dataset:  <class 'numpy.ndarray'>\n",
            "length of dataset:  30022 \n",
            "shape of dataset:  (30022, 6)\n"
          ],
          "name": "stdout"
        }
      ]
    },
    {
      "cell_type": "code",
      "metadata": {
        "id": "HApDZ6mNVe9s",
        "colab_type": "code",
        "colab": {}
      },
      "source": [
        "def split_sequence(sequence, n_steps, pred_steps):\n",
        "\tX, y = list(), list()\n",
        "\tfor i in range(len(sequence)-pred_steps-n_steps):\n",
        "\t\t# find the end of this pattern\n",
        "\t\tend_ix = i + n_steps\n",
        "\t\t# check if we are beyond the sequence\n",
        "\t\t# if end_ix > len(sequence)-end_ix-pred_steps :\n",
        "\t\t# \tbreak\n",
        "\t\t# gather input and output parts of the pattern\n",
        "\t\tseq_x, seq_y = sequence[i:end_ix], sequence[end_ix+pred_steps][0]\n",
        "\t\tX.append(seq_x)\n",
        "\t\ty.append(seq_y)\n",
        "\treturn array(X), array(y)"
      ],
      "execution_count": 26,
      "outputs": []
    },
    {
      "cell_type": "code",
      "metadata": {
        "id": "LR_5DKZHW4Zr",
        "colab_type": "code",
        "colab": {
          "base_uri": "https://localhost:8080/",
          "height": 510
        },
        "outputId": "82a21c59-03b3-4f7e-b2fb-70c383758c06"
      },
      "source": [
        "# choose a number of time steps\n",
        "n_steps = 10\n",
        "pred_steps = 20\n",
        "\n",
        "# split into samples\n",
        "X, y = split_sequence(dataset, n_steps, pred_steps)\n",
        "print(len(y))\n",
        "unique, counts = np.unique(y, return_counts=True)\n",
        "print(dict(zip(unique, counts)))\n",
        "\n",
        "#shuffling after making windows\n",
        "X, y = shuffle(X, y)\n",
        "\n",
        "# one hot labels\n",
        "depth = 4\n",
        "y = tf.one_hot(y, depth)\n",
        "y = y.numpy()\n",
        "\n",
        "# # split into train and test sets\n",
        "train_size = int(len(X) * 0.6)\n",
        "val_size = train_size + int(len(X) * 0.2)\n",
        "trainX, validationX, testX = X[0:train_size,:], X[train_size:val_size,:], X[val_size:,:]\n",
        "trainY, validationY, testY = y[0:train_size,:], y[train_size:val_size,:], y[val_size:,:]\n",
        "\n",
        "n_features = len(trainX[0][0])\n",
        "\n",
        "print('the shape of trainx: ', trainX.shape)\n",
        "print('the shape of validationx: ', validationX.shape)\n",
        "print('the shape of testx: ', testX.shape)\n",
        "print('the shape of trainy: ', trainY.shape)\n",
        "print('the shape of validationy: ', validationY.shape)\n",
        "print('the shape of testy: ', testY.shape)\n",
        "print(trainX[:2])"
      ],
      "execution_count": 27,
      "outputs": [
        {
          "output_type": "stream",
          "text": [
            "29992\n",
            "{0: 19236, 1: 10756}\n",
            "the shape of trainx:  (17995, 10, 6)\n",
            "the shape of validationx:  (5998, 10, 6)\n",
            "the shape of testx:  (5999, 10, 6)\n",
            "the shape of trainy:  (17995, 4)\n",
            "the shape of validationy:  (5998, 4)\n",
            "the shape of testy:  (5999, 4)\n",
            "[[[0 0 0 0 0 0]\n",
            "  [0 0 0 0 0 0]\n",
            "  [0 0 0 0 0 0]\n",
            "  [0 0 0 0 0 0]\n",
            "  [1 0 1 0 0 0]\n",
            "  [0 0 0 0 0 0]\n",
            "  [1 0 0 1 0 0]\n",
            "  [1 1 0 1 0 0]\n",
            "  [1 1 0 1 0 0]\n",
            "  [1 1 0 1 0 0]]\n",
            "\n",
            " [[1 0 1 0 0 0]\n",
            "  [1 0 1 0 0 0]\n",
            "  [1 0 1 0 0 0]\n",
            "  [1 0 1 0 0 0]\n",
            "  [1 0 1 0 0 0]\n",
            "  [1 0 1 0 0 0]\n",
            "  [1 0 1 0 0 0]\n",
            "  [1 0 1 0 0 0]\n",
            "  [1 0 1 0 0 0]\n",
            "  [1 0 1 0 0 0]]]\n"
          ],
          "name": "stdout"
        }
      ]
    },
    {
      "cell_type": "code",
      "metadata": {
        "id": "u1eWUcwTX9Fv",
        "colab_type": "code",
        "colab": {
          "base_uri": "https://localhost:8080/",
          "height": 805
        },
        "outputId": "0bfe5186-14d9-44db-e47c-635e103d0c7e"
      },
      "source": [
        "# define StackedLSTMmodel:\n",
        "model = Sequential()\n",
        "model.add(LSTM(50, activation='relu',return_sequences=True, input_shape=(n_steps, n_features)))\n",
        "model.add(LSTM(50, activation='relu'))\n",
        "# model.add(Dropout(0.01))\n",
        "model.add(Dense(10))\n",
        "model.add(Dense(4))\n",
        "model.compile(optimizer=\"RMSprop\", loss='mse', metrics=['accuracy'])\n",
        "model.summary()\n",
        "# SVG(model_to_dot( model,  show_shapes=True, show_layer_names=True).create(prog='dot', format='svg'))\n",
        "keras.utils.plot_model(model, to_file='LSTM.png', show_shapes=True)\n",
        "IPython.display.Image('LSTM.png')\n"
      ],
      "execution_count": 28,
      "outputs": [
        {
          "output_type": "stream",
          "text": [
            "Model: \"sequential_1\"\n",
            "_________________________________________________________________\n",
            "Layer (type)                 Output Shape              Param #   \n",
            "=================================================================\n",
            "lstm_1 (LSTM)                (None, 10, 50)            11400     \n",
            "_________________________________________________________________\n",
            "lstm_2 (LSTM)                (None, 50)                20200     \n",
            "_________________________________________________________________\n",
            "dense_1 (Dense)              (None, 10)                510       \n",
            "_________________________________________________________________\n",
            "dense_2 (Dense)              (None, 4)                 44        \n",
            "=================================================================\n",
            "Total params: 32,154\n",
            "Trainable params: 32,154\n",
            "Non-trainable params: 0\n",
            "_________________________________________________________________\n"
          ],
          "name": "stdout"
        },
        {
          "output_type": "execute_result",
          "data": {
            "image/png": "[encoded data removed]",
            "text/plain": [
              "<IPython.core.display.Image object>"
            ]
          },
          "metadata": {
            "tags": []
          },
          "execution_count": 28
        }
      ]
    },
    {
      "cell_type": "code",
      "metadata": {
        "id": "ur1vgGx7badh",
        "colab_type": "code",
        "colab": {
          "base_uri": "https://localhost:8080/",
          "height": 204
        },
        "outputId": "b8247d25-7dba-4aad-bb78-991d60618b51"
      },
      "source": [
        "history = model.fit(trainX, trainY, epochs=5, verbose = 1, validation_data=[testX,testY])"
      ],
      "execution_count": 29,
      "outputs": [
        {
          "output_type": "stream",
          "text": [
            "Train on 17995 samples, validate on 5999 samples\n",
            "Epoch 1/5\n",
            "17995/17995 [==============================] - 9s 481us/step - loss: 0.0866 - accuracy: 0.7706 - val_loss: 0.0801 - val_accuracy: 0.7831\n",
            "Epoch 2/5\n",
            "17995/17995 [==============================] - 8s 433us/step - loss: 0.0815 - accuracy: 0.7790 - val_loss: 0.0805 - val_accuracy: 0.7790\n",
            "Epoch 3/5\n",
            "17995/17995 [==============================] - 8s 434us/step - loss: 0.0800 - accuracy: 0.7836 - val_loss: 0.0821 - val_accuracy: 0.7800\n",
            "Epoch 4/5\n",
            "17995/17995 [==============================] - 8s 447us/step - loss: 0.0790 - accuracy: 0.7856 - val_loss: 0.0779 - val_accuracy: 0.7846\n",
            "Epoch 5/5\n",
            "17995/17995 [==============================] - 8s 449us/step - loss: 0.0785 - accuracy: 0.7867 - val_loss: 0.0763 - val_accuracy: 0.7948\n"
          ],
          "name": "stdout"
        }
      ]
    },
    {
      "cell_type": "code",
      "metadata": {
        "id": "QNM0GNPKmUPJ",
        "colab_type": "code",
        "colab": {
          "base_uri": "https://localhost:8080/",
          "height": 579
        },
        "outputId": "19e9b86d-be70-44b7-fd40-5078b55c3dac"
      },
      "source": [
        "import matplotlib.pyplot as plt\n",
        "acc = history.history['accuracy']\n",
        "val_acc = history.history['val_accuracy']\n",
        "loss = history.history['loss']\n",
        "val_loss = history.history['val_loss']\n",
        "\n",
        "epochs = range(len(acc))\n",
        "\n",
        "plt.plot(epochs, acc, 'r', label='Training accuracy')\n",
        "plt.plot(epochs, val_acc, 'b', label='Validation accuracy')\n",
        "plt.title('Training and validation accuracy')\n",
        "plt.legend(loc=0)\n",
        "plt.figure()\n",
        "\n",
        "\n",
        "plt.show()\n",
        "\n",
        "plt.plot(epochs, loss, 'r', label='Training loss')\n",
        "plt.plot(epochs, val_loss, 'b', label='Validation loss')\n",
        "plt.title('Training and validation loss')\n",
        "plt.legend(loc=0)\n",
        "plt.figure()\n",
        "\n",
        "\n",
        "plt.show()"
      ],
      "execution_count": 30,
      "outputs": [
        {
          "output_type": "display_data",
          "data": {
            "image/png": "[encoded data removed]",
            "text/plain": [
              "<Figure size 432x288 with 1 Axes>"
            ]
          },
          "metadata": {
            "tags": [],
            "needs_background": "light"
          }
        },
        {
          "output_type": "display_data",
          "data": {
            "text/plain": [
              "<Figure size 432x288 with 0 Axes>"
            ]
          },
          "metadata": {
            "tags": []
          }
        },
        {
          "output_type": "display_data",
          "data": {
            "image/png": "[encoded data removed]",
            "text/plain": [
              "<Figure size 432x288 with 1 Axes>"
            ]
          },
          "metadata": {
            "tags": [],
            "needs_background": "light"
          }
        },
        {
          "output_type": "display_data",
          "data": {
            "text/plain": [
              "<Figure size 432x288 with 0 Axes>"
            ]
          },
          "metadata": {
            "tags": []
          }
        }
      ]
    },
    {
      "cell_type": "code",
      "metadata": {
        "id": "oImXzwZtc16G",
        "colab_type": "code",
        "colab": {}
      },
      "source": [
        "y_pred = model.predict_classes(testX)\n",
        "testY = np.argmax(testY, axis=1)"
      ],
      "execution_count": 31,
      "outputs": []
    },
    {
      "cell_type": "code",
      "metadata": {
        "id": "6ruVYp12b4XR",
        "colab_type": "code",
        "colab": {
          "base_uri": "https://localhost:8080/",
          "height": 34
        },
        "outputId": "263f80e0-d0d9-460f-c5d6-93ce075762fb"
      },
      "source": [
        "precision_score(testY, y_pred, average='macro')"
      ],
      "execution_count": 32,
      "outputs": [
        {
          "output_type": "execute_result",
          "data": {
            "text/plain": [
              "0.7780798593947382"
            ]
          },
          "metadata": {
            "tags": []
          },
          "execution_count": 32
        }
      ]
    },
    {
      "cell_type": "code",
      "metadata": {
        "id": "JUhuykF6cRGW",
        "colab_type": "code",
        "colab": {
          "base_uri": "https://localhost:8080/",
          "height": 34
        },
        "outputId": "e759973f-eb8d-4102-dfaf-8a6b945ddc94"
      },
      "source": [
        "accuracy_score(testY, y_pred)"
      ],
      "execution_count": 33,
      "outputs": [
        {
          "output_type": "execute_result",
          "data": {
            "text/plain": [
              "0.7947991331888649"
            ]
          },
          "metadata": {
            "tags": []
          },
          "execution_count": 33
        }
      ]
    },
    {
      "cell_type": "code",
      "metadata": {
        "id": "C60-r5X0ji4U",
        "colab_type": "code",
        "colab": {
          "base_uri": "https://localhost:8080/",
          "height": 282
        },
        "outputId": "a68e4cf8-6a42-48ac-d73a-e17a1bef222e"
      },
      "source": [
        "cf_matrix = confusion_matrix(testY, y_pred)\n",
        "sns.heatmap(cf_matrix/np.sum(cf_matrix), annot=True, \n",
        "            fmt='.2%', cmap='Blues')"
      ],
      "execution_count": 34,
      "outputs": [
        {
          "output_type": "execute_result",
          "data": {
            "text/plain": [
              "<matplotlib.axes._subplots.AxesSubplot at 0x7fdedd70a208>"
            ]
          },
          "metadata": {
            "tags": []
          },
          "execution_count": 34
        },
        {
          "output_type": "display_data",
          "data": {
            "image/png": "[encoded data removed]",
            "text/plain": [
              "<Figure size 432x288 with 2 Axes>"
            ]
          },
          "metadata": {
            "tags": [],
            "needs_background": "light"
          }
        }
      ]
    },
    {
      "cell_type": "markdown",
      "metadata": {
        "id": "tNG4zEO-QRiJ",
        "colab_type": "text"
      },
      "source": [
        "# time series regression"
      ]
    },
    {
      "cell_type": "code",
      "metadata": {
        "id": "4gl8H0sjkY5W",
        "colab_type": "code",
        "colab": {
          "base_uri": "https://localhost:8080/",
          "height": 102
        },
        "outputId": "f1e5498b-03ed-4862-dc69-1270b5ed5b7d"
      },
      "source": [
        "dataset2 = psi_df.values\n",
        "print('type of dataset: ', type(dataset2))\n",
        "print('length of dataset: ', len(dataset), '\\nshape of dataset: ', dataset2.shape)\n",
        "print(dataset[0])\n",
        "\n",
        "#Normalizing the data\n",
        "scaler = MinMaxScaler(feature_range = (0, 1))\n",
        "dataset2 = scaler.fit_transform(dataset2)\n",
        "print(dataset2[0])"
      ],
      "execution_count": 56,
      "outputs": [
        {
          "output_type": "stream",
          "text": [
            "type of dataset:  <class 'numpy.ndarray'>\n",
            "length of dataset:  30022 \n",
            "shape of dataset:  (30022, 6)\n",
            "[47 44 37 47 47 34]\n",
            "[0.26153846 0.17910448 0.14285714 0.28205128 0.24113475 0.14173228]\n"
          ],
          "name": "stdout"
        }
      ]
    },
    {
      "cell_type": "code",
      "metadata": {
        "id": "cUYiCXCJ4d8w",
        "colab_type": "code",
        "colab": {
          "base_uri": "https://localhost:8080/",
          "height": 442
        },
        "outputId": "27c77ccd-3de2-48ba-db11-6a404e5b9f06"
      },
      "source": [
        "# split into train, validation and test sets\n",
        "train_size = int(len(dataset2) * 0.6)\n",
        "val_size = train_size + int(len(dataset2) * 0.2)\n",
        "train, validation, test = dataset2[0:train_size,:], dataset2[train_size:val_size,:], dataset2[val_size:,:]\n",
        "\n",
        "# choose a number of time steps\n",
        "n_steps = 10\n",
        "pred_steps = 5\n",
        "\n",
        "# split into samples\n",
        "trainX, trainY = split_sequence(train, n_steps, pred_steps)\n",
        "validationX, validationY = split_sequence(train, n_steps, pred_steps)\n",
        "testX, testY = split_sequence(test, n_steps, pred_steps)\n",
        "\n",
        "# reshape from [samples, timesteps] into [samples, timesteps, features]\n",
        "n_features = 6\n",
        "TrainX = trainX.reshape((trainX.shape[0], trainX.shape[1], n_features))\n",
        "TestX = testX.reshape((testX.shape[0], testX.shape[1], n_features))\n",
        "print('the shape of trainx: ', TrainX.shape)\n",
        "print('the shape of testx: ', TestX.shape)\n",
        "print('the shape of trainy: ', trainY.shape)\n",
        "print('the shape of testy: ', testY.shape)\n",
        "print(trainX[:2])"
      ],
      "execution_count": 74,
      "outputs": [
        {
          "output_type": "stream",
          "text": [
            "the shape of trainx:  (17998, 10, 6)\n",
            "the shape of testx:  (5990, 10, 6)\n",
            "the shape of trainy:  (17998,)\n",
            "the shape of testy:  (5990,)\n",
            "[[[0.26153846 0.17910448 0.14285714 0.28205128 0.24113475 0.14173228]\n",
            "  [0.35384615 0.2761194  0.27777778 0.38461538 0.31205674 0.31496063]\n",
            "  [0.35384615 0.2761194  0.28571429 0.38461538 0.31205674 0.31496063]\n",
            "  [0.35384615 0.2761194  0.28571429 0.38461538 0.30496454 0.31496063]\n",
            "  [0.35384615 0.28358209 0.28571429 0.38461538 0.30496454 0.31496063]\n",
            "  [0.35384615 0.28358209 0.28571429 0.38461538 0.30496454 0.31496063]\n",
            "  [0.35384615 0.28358209 0.28571429 0.38461538 0.31205674 0.31496063]\n",
            "  [0.36153846 0.28358209 0.28571429 0.39316239 0.31205674 0.31496063]\n",
            "  [0.36153846 0.28358209 0.29365079 0.39316239 0.31205674 0.31496063]\n",
            "  [0.36923077 0.28358209 0.3015873  0.4017094  0.31205674 0.31496063]]\n",
            "\n",
            " [[0.35384615 0.2761194  0.27777778 0.38461538 0.31205674 0.31496063]\n",
            "  [0.35384615 0.2761194  0.28571429 0.38461538 0.31205674 0.31496063]\n",
            "  [0.35384615 0.2761194  0.28571429 0.38461538 0.30496454 0.31496063]\n",
            "  [0.35384615 0.28358209 0.28571429 0.38461538 0.30496454 0.31496063]\n",
            "  [0.35384615 0.28358209 0.28571429 0.38461538 0.30496454 0.31496063]\n",
            "  [0.35384615 0.28358209 0.28571429 0.38461538 0.31205674 0.31496063]\n",
            "  [0.36153846 0.28358209 0.28571429 0.39316239 0.31205674 0.31496063]\n",
            "  [0.36153846 0.28358209 0.29365079 0.39316239 0.31205674 0.31496063]\n",
            "  [0.36923077 0.28358209 0.3015873  0.4017094  0.31205674 0.31496063]\n",
            "  [0.36923077 0.28358209 0.3015873  0.4017094  0.31205674 0.32283465]]]\n"
          ],
          "name": "stdout"
        }
      ]
    },
    {
      "cell_type": "code",
      "metadata": {
        "id": "khXAfkbG4-HH",
        "colab_type": "code",
        "colab": {
          "base_uri": "https://localhost:8080/",
          "height": 805
        },
        "outputId": "126d64ed-cbf0-4520-9aec-45ae97f991c2"
      },
      "source": [
        "# define StackedLSTMmodel:\n",
        "model2 = Sequential()\n",
        "model2.add(LSTM(256, activation='relu',return_sequences=True, input_shape=(n_steps, n_features)))\n",
        "model2.add(LSTM(128, activation='relu'))\n",
        "# model.add(Dropout(0.01))\n",
        "model2.add(Dense(10))\n",
        "model2.add(Dense(1))\n",
        "model2.compile(optimizer=\"RMSprop\", loss='mse')\n",
        "model2.summary()\n",
        "# SVG(model_to_dot( model,  show_shapes=True, show_layer_names=True).create(prog='dot', format='svg'))\n",
        "keras.utils.plot_model(model2, to_file='LSTM.png', show_shapes=True)\n",
        "IPython.display.Image('LSTM.png')\n"
      ],
      "execution_count": 75,
      "outputs": [
        {
          "output_type": "stream",
          "text": [
            "Model: \"sequential_7\"\n",
            "_________________________________________________________________\n",
            "Layer (type)                 Output Shape              Param #   \n",
            "=================================================================\n",
            "lstm_13 (LSTM)               (None, 10, 256)           269312    \n",
            "_________________________________________________________________\n",
            "lstm_14 (LSTM)               (None, 128)               197120    \n",
            "_________________________________________________________________\n",
            "dense_13 (Dense)             (None, 10)                1290      \n",
            "_________________________________________________________________\n",
            "dense_14 (Dense)             (None, 1)                 11        \n",
            "=================================================================\n",
            "Total params: 467,733\n",
            "Trainable params: 467,733\n",
            "Non-trainable params: 0\n",
            "_________________________________________________________________\n"
          ],
          "name": "stdout"
        },
        {
          "output_type": "execute_result",
          "data": {
            "image/png": "[encoded data removed]",
            "text/plain": [
              "<IPython.core.display.Image object>"
            ]
          },
          "metadata": {
            "tags": []
          },
          "execution_count": 75
        }
      ]
    },
    {
      "cell_type": "code",
      "metadata": {
        "id": "W0GuaTlr7nMI",
        "colab_type": "code",
        "colab": {
          "base_uri": "https://localhost:8080/",
          "height": 1000
        },
        "outputId": "e66dddca-d440-4d88-e121-0304d329a1c6"
      },
      "source": [
        "history2 = model2.fit(trainX, trainY, epochs=50, verbose = 1, validation_data=[validationX, validationY])"
      ],
      "execution_count": 79,
      "outputs": [
        {
          "output_type": "stream",
          "text": [
            "Train on 17998 samples, validate on 17998 samples\n",
            "Epoch 1/50\n",
            "17998/17998 [==============================] - 44s 2ms/step - loss: 7.6424e-04 - val_loss: 7.9875e-04\n",
            "Epoch 2/50\n",
            "17998/17998 [==============================] - 44s 2ms/step - loss: 7.5992e-04 - val_loss: 7.0220e-04\n",
            "Epoch 3/50\n",
            "17998/17998 [==============================] - 44s 2ms/step - loss: 7.5267e-04 - val_loss: 7.5361e-04\n",
            "Epoch 4/50\n",
            "17998/17998 [==============================] - 44s 2ms/step - loss: 7.4659e-04 - val_loss: 7.1846e-04\n",
            "Epoch 5/50\n",
            "17998/17998 [==============================] - 44s 2ms/step - loss: 7.4105e-04 - val_loss: 7.8300e-04\n",
            "Epoch 6/50\n",
            "17998/17998 [==============================] - 44s 2ms/step - loss: 7.2117e-04 - val_loss: 7.8262e-04\n",
            "Epoch 7/50\n",
            "17998/17998 [==============================] - 44s 2ms/step - loss: 7.2975e-04 - val_loss: 6.7492e-04\n",
            "Epoch 8/50\n",
            "17998/17998 [==============================] - 44s 2ms/step - loss: 7.1946e-04 - val_loss: 6.2275e-04\n",
            "Epoch 9/50\n",
            "17998/17998 [==============================] - 44s 2ms/step - loss: 7.0907e-04 - val_loss: 7.2921e-04\n",
            "Epoch 10/50\n",
            "17998/17998 [==============================] - 44s 2ms/step - loss: 7.0349e-04 - val_loss: 7.0001e-04\n",
            "Epoch 11/50\n",
            "17998/17998 [==============================] - 44s 2ms/step - loss: 7.0003e-04 - val_loss: 6.7362e-04\n",
            "Epoch 12/50\n",
            "17998/17998 [==============================] - 44s 2ms/step - loss: 6.8526e-04 - val_loss: 6.3729e-04\n",
            "Epoch 13/50\n",
            "17998/17998 [==============================] - 44s 2ms/step - loss: 6.8898e-04 - val_loss: 6.1218e-04\n",
            "Epoch 14/50\n",
            "17998/17998 [==============================] - 44s 2ms/step - loss: 6.7659e-04 - val_loss: 6.0887e-04\n",
            "Epoch 15/50\n",
            "17998/17998 [==============================] - 44s 2ms/step - loss: 6.7386e-04 - val_loss: 6.1363e-04\n",
            "Epoch 16/50\n",
            "17998/17998 [==============================] - 45s 2ms/step - loss: 6.5553e-04 - val_loss: 0.0011\n",
            "Epoch 17/50\n",
            "17998/17998 [==============================] - 44s 2ms/step - loss: 6.5232e-04 - val_loss: 6.3204e-04\n",
            "Epoch 18/50\n",
            "17998/17998 [==============================] - 45s 2ms/step - loss: 6.4388e-04 - val_loss: 6.8805e-04\n",
            "Epoch 19/50\n",
            "17998/17998 [==============================] - 45s 2ms/step - loss: 6.4764e-04 - val_loss: 6.8520e-04\n",
            "Epoch 20/50\n",
            "17998/17998 [==============================] - 45s 2ms/step - loss: 6.3056e-04 - val_loss: 5.9673e-04\n",
            "Epoch 21/50\n",
            "17998/17998 [==============================] - 44s 2ms/step - loss: 6.2688e-04 - val_loss: 6.1974e-04\n",
            "Epoch 22/50\n",
            "17998/17998 [==============================] - 44s 2ms/step - loss: 6.1491e-04 - val_loss: 6.6854e-04\n",
            "Epoch 23/50\n",
            "17998/17998 [==============================] - 44s 2ms/step - loss: 6.1605e-04 - val_loss: 6.1471e-04\n",
            "Epoch 24/50\n",
            "17998/17998 [==============================] - 44s 2ms/step - loss: 6.0448e-04 - val_loss: 5.3647e-04\n",
            "Epoch 25/50\n",
            "17998/17998 [==============================] - 44s 2ms/step - loss: 5.9783e-04 - val_loss: 7.3683e-04\n",
            "Epoch 26/50\n",
            "17998/17998 [==============================] - 44s 2ms/step - loss: 5.8775e-04 - val_loss: 6.1565e-04\n",
            "Epoch 27/50\n",
            "17998/17998 [==============================] - 44s 2ms/step - loss: 5.8009e-04 - val_loss: 5.1937e-04\n",
            "Epoch 28/50\n",
            "17998/17998 [==============================] - 44s 2ms/step - loss: 5.7143e-04 - val_loss: 5.4759e-04\n",
            "Epoch 29/50\n",
            "17998/17998 [==============================] - 44s 2ms/step - loss: 5.6760e-04 - val_loss: 6.1532e-04\n",
            "Epoch 30/50\n",
            "17998/17998 [==============================] - 44s 2ms/step - loss: 5.6208e-04 - val_loss: 4.9948e-04\n",
            "Epoch 31/50\n",
            "17998/17998 [==============================] - 44s 2ms/step - loss: 5.5886e-04 - val_loss: 6.2259e-04\n",
            "Epoch 32/50\n",
            "17998/17998 [==============================] - 44s 2ms/step - loss: 5.5043e-04 - val_loss: 5.0934e-04\n",
            "Epoch 33/50\n",
            "17998/17998 [==============================] - 45s 2ms/step - loss: 5.4147e-04 - val_loss: 5.1675e-04\n",
            "Epoch 34/50\n",
            "17998/17998 [==============================] - 50s 3ms/step - loss: 5.4162e-04 - val_loss: 6.0199e-04\n",
            "Epoch 35/50\n",
            "17998/17998 [==============================] - 44s 2ms/step - loss: 5.3109e-04 - val_loss: 5.8400e-04\n",
            "Epoch 36/50\n",
            "17998/17998 [==============================] - 45s 2ms/step - loss: 5.2872e-04 - val_loss: 5.8023e-04\n",
            "Epoch 37/50\n",
            "17998/17998 [==============================] - 45s 2ms/step - loss: 5.2138e-04 - val_loss: 4.8507e-04\n",
            "Epoch 38/50\n",
            "17998/17998 [==============================] - 45s 2ms/step - loss: 5.1891e-04 - val_loss: 5.9758e-04\n",
            "Epoch 39/50\n",
            "17998/17998 [==============================] - 44s 2ms/step - loss: 5.1667e-04 - val_loss: 5.8627e-04\n",
            "Epoch 40/50\n",
            "17998/17998 [==============================] - 45s 2ms/step - loss: 5.0060e-04 - val_loss: 5.0273e-04\n",
            "Epoch 41/50\n",
            "17998/17998 [==============================] - 45s 3ms/step - loss: 4.9749e-04 - val_loss: 5.8463e-04\n",
            "Epoch 42/50\n",
            "17998/17998 [==============================] - 44s 2ms/step - loss: 4.9750e-04 - val_loss: 4.1580e-04\n",
            "Epoch 43/50\n",
            "17998/17998 [==============================] - 45s 2ms/step - loss: 4.8729e-04 - val_loss: 5.7144e-04\n",
            "Epoch 44/50\n",
            "17998/17998 [==============================] - 45s 3ms/step - loss: 4.8419e-04 - val_loss: 5.8578e-04\n",
            "Epoch 45/50\n",
            "17998/17998 [==============================] - 45s 3ms/step - loss: 4.8213e-04 - val_loss: 4.9569e-04\n",
            "Epoch 46/50\n",
            "17998/17998 [==============================] - 45s 3ms/step - loss: 4.7734e-04 - val_loss: 4.4951e-04\n",
            "Epoch 47/50\n",
            "17998/17998 [==============================] - 48s 3ms/step - loss: 4.7167e-04 - val_loss: 4.4323e-04\n",
            "Epoch 48/50\n",
            "17998/17998 [==============================] - 48s 3ms/step - loss: 4.5912e-04 - val_loss: 5.0656e-04\n",
            "Epoch 49/50\n",
            "17998/17998 [==============================] - 45s 3ms/step - loss: 4.5994e-04 - val_loss: 4.8507e-04\n",
            "Epoch 50/50\n",
            "17998/17998 [==============================] - 44s 2ms/step - loss: 4.5034e-04 - val_loss: 4.5450e-04\n"
          ],
          "name": "stdout"
        }
      ]
    },
    {
      "cell_type": "code",
      "metadata": {
        "id": "Q1Z5l_n47yju",
        "colab_type": "code",
        "colab": {}
      },
      "source": [
        "testPredict = model2.predict(testX)"
      ],
      "execution_count": 80,
      "outputs": []
    },
    {
      "cell_type": "code",
      "metadata": {
        "id": "kGK_yKMBEt-A",
        "colab_type": "code",
        "colab": {
          "base_uri": "https://localhost:8080/",
          "height": 282
        },
        "outputId": "1888319a-ddb4-412f-ef34-fd2f6557e9bd"
      },
      "source": [
        "plt.plot(testY[-20:], label='Main data')\n",
        "# plt.plot(trainPredictPlot)\n",
        "plt.plot(testPredict[-20:], label='Predicted')\n",
        "# plt.show()\n",
        "plt.legend()"
      ],
      "execution_count": 81,
      "outputs": [
        {
          "output_type": "execute_result",
          "data": {
            "text/plain": [
              "<matplotlib.legend.Legend at 0x7fdedb498198>"
            ]
          },
          "metadata": {
            "tags": []
          },
          "execution_count": 81
        },
        {
          "output_type": "display_data",
          "data": {
            "image/png": "[encoded data removed]",
            "text/plain": [
              "<Figure size 432x288 with 1 Axes>"
            ]
          },
          "metadata": {
            "tags": [],
            "needs_background": "light"
          }
        }
      ]
    },
    {
      "cell_type": "code",
      "metadata": {
        "id": "k6537oMoXlo0",
        "colab_type": "code",
        "colab": {
          "base_uri": "https://localhost:8080/",
          "height": 51
        },
        "outputId": "d2d4083f-f367-4579-8d53-f8785d286f22"
      },
      "source": [
        "from sklearn.metrics import r2_score\n",
        "print('R^2 is: ', r2_score(testY, testPredict)) \n",
        "\n",
        "mse = np.mean(tf.keras.losses.mse(testPredict, testY))\n",
        "np.mean(mse)"
      ],
      "execution_count": 90,
      "outputs": [
        {
          "output_type": "stream",
          "text": [
            "R^2 is:  0.9022921553702168\n"
          ],
          "name": "stdout"
        },
        {
          "output_type": "execute_result",
          "data": {
            "text/plain": [
              "0.023963279140049937"
            ]
          },
          "metadata": {
            "tags": []
          },
          "execution_count": 90
        }
      ]
    }
  ]
}